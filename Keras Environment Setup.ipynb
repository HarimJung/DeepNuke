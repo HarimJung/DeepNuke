{
 "cells": [
  {
   "cell_type": "markdown",
   "metadata": {},
   "source": [
    "# Timeseries Data Prediction"
   ]
  },
  {
   "cell_type": "code",
   "execution_count": 12,
   "metadata": {},
   "outputs": [],
   "source": [
    "import tensorflow as tf\n",
    "import numpy as np\n",
    "import matplotlib.pyplot as plt\n",
    "import pandas as pd\n",
    "from sklearn.preprocessing import MinMaxScaler\n",
    "import os\n"
   ]
  },
  {
   "cell_type": "markdown",
   "metadata": {},
   "source": [
    " : tf.audio_summary -> tf.summary.audio\n",
    " : tf.contrib.deprecated.histogram_summary -> tf.summary.histogram\n",
    " : tf.contrib.deprecated.scalar_summary -> `tf.summary.scalar\n",
    " : tf.histogram_summary -> tf.summary.histogram\n",
    " : tf.image_summary -> tf.summary.image\n",
    " : tf.merge_all_summaries -> tf.summary.merge_all\n",
    " : tf.merge_summary -> tf.summary.merge\n",
    " : tf.scalar_summary -> tf.summary.scalar\n",
    " : tf.train.SummaryWriter -> tf.summary.FileWriter\n",
    "\n",
    "\n",
    "출처: https://abc2080.tistory.com/entry/에러-module-object-has-no-attribute-mergeallsummaries [Another Windows]"
   ]
  },
  {
   "cell_type": "code",
   "execution_count": 13,
   "metadata": {},
   "outputs": [],
   "source": [
    "from tensorflow.python.keras.models import sequential\n",
    "from tensorflow.python.keras.layers import Input,Dense,GRU,Embedding\n",
    "\n",
    "from tensorflow.python.keras.optimizers import RMSprop\n",
    "from tensorflow.python.keras.callbacks import EarlyStopping, ModelCheckpoint, ReduceLROnPlateau"
   ]
  },
  {
   "cell_type": "code",
   "execution_count": null,
   "metadata": {},
   "outputs": [],
   "source": []
  }
 ],
 "metadata": {
  "kernelspec": {
   "display_name": "Python 3",
   "language": "python",
   "name": "python3"
  },
  "language_info": {
   "codemirror_mode": {
    "name": "ipython",
    "version": 3
   },
   "file_extension": ".py",
   "mimetype": "text/x-python",
   "name": "python",
   "nbconvert_exporter": "python",
   "pygments_lexer": "ipython3",
   "version": "3.6.8"
  }
 },
 "nbformat": 4,
 "nbformat_minor": 2
}
